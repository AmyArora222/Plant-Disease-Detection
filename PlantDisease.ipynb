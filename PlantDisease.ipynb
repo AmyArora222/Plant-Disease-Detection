{
  "nbformat": 4,
  "nbformat_minor": 0,
  "metadata": {
    "colab": {
      "provenance": [],
      "gpuType": "T4",
      "authorship_tag": "ABX9TyMNi0v83uEpvcvoR6oWRWW0",
      "include_colab_link": true
    },
    "kernelspec": {
      "name": "python3",
      "display_name": "Python 3"
    },
    "language_info": {
      "name": "python"
    },
    "accelerator": "GPU"
  },
  "cells": [
    {
      "cell_type": "markdown",
      "metadata": {
        "id": "view-in-github",
        "colab_type": "text"
      },
      "source": [
        "<a href=\"https://colab.research.google.com/github/AmyArora222/Plant-Disease-Detection/blob/main/PlantDisease.ipynb\" target=\"_parent\"><img src=\"https://colab.research.google.com/assets/colab-badge.svg\" alt=\"Open In Colab\"/></a>"
      ]
    },
    {
      "cell_type": "markdown",
      "source": [
        "Upload Zip File\n"
      ],
      "metadata": {
        "id": "y_QB3r9CEhFS"
      }
    },
    {
      "cell_type": "code",
      "execution_count": null,
      "metadata": {
        "id": "M0QaGdI90Hk-"
      },
      "outputs": [],
      "source": [
        "from google.colab import files\n",
        "uploaded = files.upload()  # Upload apple.zip\n"
      ]
    },
    {
      "cell_type": "markdown",
      "source": [
        "Extract Contents of Zip File\n"
      ],
      "metadata": {
        "id": "aD5VgxXPEmS2"
      }
    },
    {
      "cell_type": "code",
      "source": [
        "import zipfile\n",
        "\n",
        "for fname in uploaded.keys():\n",
        "    with zipfile.ZipFile(fname, 'r') as zip_ref:\n",
        "        zip_ref.extractall(\".\")\n"
      ],
      "metadata": {
        "id": "8ARCzzOd4Q49"
      },
      "execution_count": null,
      "outputs": []
    },
    {
      "cell_type": "markdown",
      "source": [
        "Function to Train a Disease Classification Model for a Crop"
      ],
      "metadata": {
        "id": "MIeEG-XVEqvl"
      }
    },
    {
      "cell_type": "code",
      "source": [
        "import os\n",
        "import numpy as np\n",
        "from tensorflow.keras.preprocessing.image import ImageDataGenerator\n",
        "from tensorflow.keras.models import Sequential\n",
        "from tensorflow.keras.layers import Conv2D, MaxPooling2D, Flatten, Dense, Dropout\n",
        "from tensorflow.keras.models import load_model\n",
        "import json\n",
        "\n",
        "img_size = (128, 128)\n",
        "batch_size = 32\n",
        "\n",
        "def train_crop_model(crop_folder):\n",
        "    datagen = ImageDataGenerator(rescale=1./255, validation_split=0.2)\n",
        "\n",
        "    train_gen = datagen.flow_from_directory(\n",
        "        crop_folder,\n",
        "        target_size=img_size,\n",
        "        batch_size=batch_size,\n",
        "        class_mode='categorical',\n",
        "        subset='training'\n",
        "    )\n",
        "\n",
        "    val_gen = datagen.flow_from_directory(\n",
        "        crop_folder,\n",
        "        target_size=img_size,\n",
        "        batch_size=batch_size,\n",
        "        class_mode='categorical',\n",
        "        subset='validation'\n",
        "    )\n",
        "\n",
        "    model = Sequential([\n",
        "        Conv2D(32, (3,3), activation='relu', input_shape=(128, 128, 3)),\n",
        "        MaxPooling2D(2,2),\n",
        "        Conv2D(64, (3,3), activation='relu'),\n",
        "        MaxPooling2D(2,2),\n",
        "        Flatten(),\n",
        "        Dense(128, activation='relu'),\n",
        "        Dropout(0.5),\n",
        "        Dense(train_gen.num_classes, activation='softmax')\n",
        "    ])\n",
        "\n",
        "    model.compile(optimizer='adam', loss='categorical_crossentropy', metrics=['accuracy'])\n",
        "\n",
        "    print(f\"\\nTraining model for: {crop_folder}\")\n",
        "    model.fit(train_gen, epochs=10, validation_data=val_gen)\n",
        "\n",
        "    # Save model\n",
        "    model.save(f\"{crop_folder}_model.h5\")\n",
        "\n",
        "    # Save class mapping\n",
        "    class_mapping = train_gen.class_indices\n",
        "    with open(f\"{crop_folder}_classes.json\", \"w\") as f:\n",
        "        json.dump(class_mapping, f)\n"
      ],
      "metadata": {
        "id": "_DVxhWsR5j4b"
      },
      "execution_count": null,
      "outputs": []
    },
    {
      "cell_type": "markdown",
      "source": [
        "Train Disease Classification Models for Different Crops"
      ],
      "metadata": {
        "id": "ehEM5iuPFDD6"
      }
    },
    {
      "cell_type": "code",
      "source": [
        "train_crop_model(\"apple\")\n",
        "train_crop_model(\"potato\")\n",
        "train_crop_model(\"corn\")\n",
        "train_crop_model(\"grape\")\n",
        "train_crop_model(\"peach\")\n",
        "train_crop_model(\"cherry\")\n",
        "train_crop_model(\"bellpepper\")\n",
        "train_crop_model(\"tomato\")\n",
        "train_crop_model(\"strawberry\")"
      ],
      "metadata": {
        "id": "_1Js7pFk5rDJ"
      },
      "execution_count": null,
      "outputs": []
    },
    {
      "cell_type": "markdown",
      "source": [
        "Function to Load the Trained Model and make a Prediction on a Test Image"
      ],
      "metadata": {
        "id": "vVbTXQfHFPSK"
      }
    },
    {
      "cell_type": "code",
      "source": [
        "from tensorflow.keras.preprocessing import image\n",
        "\n",
        "def predict_disease(crop_name, img_path):\n",
        "    model = load_model(f\"{crop_name}_model.h5\")\n",
        "    with open(f\"{crop_name}_classes.json\", \"r\") as f:\n",
        "        class_indices = json.load(f)\n",
        "\n",
        "    index_to_class = {v: k for k, v in class_indices.items()}\n",
        "\n",
        "    img = image.load_img(img_path, target_size=img_size)\n",
        "    img_array = image.img_to_array(img) / 255.0\n",
        "    img_array = np.expand_dims(img_array, axis=0)\n",
        "\n",
        "    pred = model.predict(img_array)\n",
        "    pred_class = np.argmax(pred)\n",
        "    predicted_label = index_to_class[pred_class]\n",
        "\n",
        "    print(f\"Predicted: {predicted_label}\")\n"
      ],
      "metadata": {
        "id": "HX6jk8dQAPfi"
      },
      "execution_count": null,
      "outputs": []
    },
    {
      "cell_type": "markdown",
      "source": [
        "Upload a Test Image for Prediction"
      ],
      "metadata": {
        "id": "qNWg9uRWFZy2"
      }
    },
    {
      "cell_type": "code",
      "source": [
        "from google.colab import files\n",
        "uploaded = files.upload()  # Upload test image\n"
      ],
      "metadata": {
        "id": "Qt5WJowIAUco"
      },
      "execution_count": null,
      "outputs": []
    },
    {
      "cell_type": "markdown",
      "source": [
        "Predict the Disease"
      ],
      "metadata": {
        "id": "059iMuLYFgta"
      }
    },
    {
      "cell_type": "code",
      "source": [
        "predict_disease(\"tomato\", \"/content/tomato.JPG\")  # replace with actual filename"
      ],
      "metadata": {
        "id": "EAXoN1mzAZRC"
      },
      "execution_count": null,
      "outputs": []
    }
  ]
}